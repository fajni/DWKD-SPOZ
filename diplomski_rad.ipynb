{
  "nbformat": 4,
  "nbformat_minor": 0,
  "metadata": {
    "colab": {
      "provenance": [],
      "toc_visible": true,
      "authorship_tag": "ABX9TyMibc5SSOMucC2n5G6Es4wv",
      "include_colab_link": true
    },
    "kernelspec": {
      "name": "python3",
      "display_name": "Python 3"
    },
    "language_info": {
      "name": "python"
    }
  },
  "cells": [
    {
      "cell_type": "markdown",
      "metadata": {
        "id": "view-in-github",
        "colab_type": "text"
      },
      "source": [
        "<a href=\"https://colab.research.google.com/github/fajni/DWKD-SPOZ/blob/main/diplomski_rad.ipynb\" target=\"_parent\"><img src=\"https://colab.research.google.com/assets/colab-badge.svg\" alt=\"Open In Colab\"/></a>"
      ]
    },
    {
      "cell_type": "markdown",
      "source": [
        "# **Model mašinskog učenja - Python**"
      ],
      "metadata": {
        "id": "7YAtMPhUcSiW"
      }
    },
    {
      "cell_type": "markdown",
      "source": [
        "## Importovanje podataka"
      ],
      "metadata": {
        "id": "gAfBwhGoc2DL"
      }
    },
    {
      "cell_type": "code",
      "execution_count": null,
      "metadata": {
        "id": "4clwzBL0cMS0"
      },
      "outputs": [],
      "source": [
        "import pandas as pd\n",
        "\n",
        "df = pd.read_csv('https://raw.githubusercontent.com/fajni/DWKD-SPOZ/main/Data/MasinskoUcenje.csv') # df - data frame\n",
        "df"
      ]
    },
    {
      "cell_type": "markdown",
      "source": [
        "### Priprema podataka na X i Y"
      ],
      "metadata": {
        "id": "VpC_9X1kEX_L"
      }
    },
    {
      "cell_type": "markdown",
      "source": [
        "X predstavlja one kolone koje se koriste za dobijanje rezultata, tj. Y,\n",
        "\n",
        "Y predstavlja konačnu kolonu, onu kolonu čija se vrednost predviđa."
      ],
      "metadata": {
        "id": "QRpd4YI7Eo7j"
      }
    },
    {
      "cell_type": "code",
      "source": [],
      "metadata": {
        "id": "iw4zR5pKEcST"
      },
      "execution_count": null,
      "outputs": []
    }
  ]
}